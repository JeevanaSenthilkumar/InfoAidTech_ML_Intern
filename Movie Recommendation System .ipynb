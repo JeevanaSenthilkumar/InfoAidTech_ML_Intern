{
 "cells": [
  {
   "cell_type": "markdown",
   "id": "14c87a98",
   "metadata": {},
   "source": [
    "\n",
    "                                             ( MOVIE RECOMMENDATION SYSTEM )"
   ]
  },
  {
   "cell_type": "code",
   "execution_count": 13,
   "id": "22694221",
   "metadata": {},
   "outputs": [],
   "source": [
    "import pandas as pd\n",
    "# Load movie data\n",
    "movies_data = pd.read_csv('movies.csv')"
   ]
  },
  {
   "cell_type": "code",
   "execution_count": 15,
   "id": "67cc0463",
   "metadata": {},
   "outputs": [],
   "source": [
    "# Split the genres column into a list of genres\n",
    "movies_data['genres'] = movies_data['genres'].str.split('|')"
   ]
  },
  {
   "cell_type": "code",
   "execution_count": 19,
   "id": "e2b771fa",
   "metadata": {},
   "outputs": [],
   "source": [
    "# Ensure the 'genres' column is of string type\n",
    "movies_data['genres'] = movies_data['genres'].astype(str)\n",
    "\n",
    "# Perform one-hot encoding on movie genres\n",
    "genres_dummies = pd.get_dummies(movies_data['genres'].apply(lambda x: x.split('|')).apply(pd.Series).stack()).sum(level=0)\n",
    "movies_data = pd.concat([movies_data, genres_dummies], axis=1)\n",
    "\n",
    "# Remove the original 'genres' column\n",
    "movies_data = movies_data.drop(columns=['genres'])\n"
   ]
  },
  {
   "cell_type": "code",
   "execution_count": 24,
   "id": "435595e2",
   "metadata": {},
   "outputs": [],
   "source": [
    "from sklearn.metrics.pairwise import cosine_similarity\n",
    "# Calculate movie similarity based on genre features\n",
    "movie_similarity = cosine_similarity(movies_data.iloc[:, 3:])  # Skip the first three columns (movieId, title, genres)\n"
   ]
  },
  {
   "cell_type": "code",
   "execution_count": 23,
   "id": "113a2c23",
   "metadata": {},
   "outputs": [
    {
     "name": "stdout",
     "output_type": "stream",
     "text": [
      "Recommended movies for 'Toy Story (1995)': ['Jumanji (1995)', 'Grumpier Old Men (1995)', 'Waiting to Exhale (1995)', 'Father of the Bride Part II (1995)', 'Heat (1995)']\n"
     ]
    }
   ],
   "source": [
    "def get_movie_recommendations(movie_title, num_recommendations=5):\n",
    "    movie_index = movies_data.index[movies_data['title'] == movie_title].tolist()[0]\n",
    "    similar_movies = list(enumerate(movie_similarity[movie_index]))\n",
    "    sorted_similar_movies = sorted(similar_movies, key=lambda x: x[1], reverse=True)[1:]  # Exclude the movie itself\n",
    "\n",
    "    top_recommendations = []\n",
    "    for i in range(num_recommendations):\n",
    "        top_recommendations.append(movies_data.iloc[sorted_similar_movies[i][0]]['title'])\n",
    "\n",
    "    return top_recommendations\n",
    "\n",
    "# Example: Get recommendations for a specific movie title\n",
    "movie_title = 'Toy Story (1995)'\n",
    "recommendations = get_movie_recommendations(movie_title)\n",
    "print(f\"Recommended movies for '{movie_title}': {recommendations}\")\n"
   ]
  },
  {
   "cell_type": "code",
   "execution_count": null,
   "id": "7f5cecca",
   "metadata": {},
   "outputs": [],
   "source": []
  }
 ],
 "metadata": {
  "kernelspec": {
   "display_name": "Python 3 (ipykernel)",
   "language": "python",
   "name": "python3"
  },
  "language_info": {
   "codemirror_mode": {
    "name": "ipython",
    "version": 3
   },
   "file_extension": ".py",
   "mimetype": "text/x-python",
   "name": "python",
   "nbconvert_exporter": "python",
   "pygments_lexer": "ipython3",
   "version": "3.9.12"
  }
 },
 "nbformat": 4,
 "nbformat_minor": 5
}
